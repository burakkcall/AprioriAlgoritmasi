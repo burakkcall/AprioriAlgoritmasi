{
 "cells": [
  {
   "cell_type": "code",
   "execution_count": 2,
   "metadata": {
    "scrolled": true
   },
   "outputs": [
    {
     "name": "stdout",
     "output_type": "stream",
     "text": [
      "[['MILK', 'BREAD', 'BISCUIT'], ['BREAD', 'MILK', 'BISCUIT', 'CORNFLAKES'], ['BREAD', 'TEA', 'BOURNVITA'], ['JAM', 'MAGGI', 'BREAD', 'MILK'], ['MAGGI', 'TEA', 'BISCUIT'], ['BREAD', 'TEA', 'BOURNVITA'], ['MAGGI', 'TEA', 'CORNFLAKES'], ['MAGGI', 'BREAD', 'TEA', 'BISCUIT'], ['JAM', 'MAGGI', 'BREAD', 'TEA'], ['BREAD', 'MILK'], ['COFFEE', 'COCK', 'BISCUIT', 'CORNFLAKES'], ['COFFEE', 'COCK', 'BISCUIT', 'CORNFLAKES'], ['COFFEE', 'SUGER', 'BOURNVITA'], ['BREAD', 'COFFEE', 'COCK'], ['BREAD', 'SUGER', 'BISCUIT'], ['COFFEE', 'SUGER', 'CORNFLAKES'], ['BREAD', 'SUGER', 'BOURNVITA'], ['BREAD', 'COFFEE', 'SUGER'], ['BREAD', 'COFFEE', 'SUGER'], ['TEA', 'MILK', 'COFFEE', 'CORNFLAKES']]\n"
     ]
    }
   ],
   "source": [
    "import pandas as pd\n",
    "#Ön işlem için:\n",
    "from mlxtend.preprocessing import TransactionEncoder\n",
    "\n",
    "# Her bir ürünün frekansını bulmak için kullanılan Modül:\n",
    "from mlxtend.frequent_patterns import apriori,association_rules\n",
    "\n",
    "# Bilgisayardaki klasörden CSV dosyalarının listesini alınır:\n",
    "data = pd.read_csv(\"C:/Users/Burak/market.csv\",header=None)\n",
    "veri= data.copy()\n",
    "\n",
    "veri.columns= [\"Ürün\"]\n",
    "veri= list(veri[\"Ürün\"].apply(lambda x:x.split(\",\")))\n",
    "\n",
    "# Liste türünde oldugu için verisetini print'le gösterdim. Normalde dataset Head() ile gösterilir.\n",
    "print(veri)"
   ]
  },
  {
   "cell_type": "code",
   "execution_count": 3,
   "metadata": {},
   "outputs": [
    {
     "name": "stdout",
     "output_type": "stream",
     "text": [
      "            antecedents           consequents  antecedent support  \\\n",
      "0             (BISCUIT)               (BREAD)                0.35   \n",
      "1                (COCK)             (BISCUIT)                0.15   \n",
      "2          (CORNFLAKES)             (BISCUIT)                0.30   \n",
      "3           (BOURNVITA)               (BREAD)                0.20   \n",
      "4           (BOURNVITA)               (SUGER)                0.20   \n",
      "..                  ...                   ...                 ...   \n",
      "141  (MILK, CORNFLAKES)         (TEA, COFFEE)                0.10   \n",
      "142   (CORNFLAKES, TEA)        (MILK, COFFEE)                0.10   \n",
      "143         (MILK, TEA)  (CORNFLAKES, COFFEE)                0.05   \n",
      "144      (MILK, COFFEE)     (CORNFLAKES, TEA)                0.05   \n",
      "145       (TEA, COFFEE)    (MILK, CORNFLAKES)                0.05   \n",
      "\n",
      "     consequent support  support  confidence       lift  leverage  conviction  \\\n",
      "0                  0.65     0.20    0.571429   0.879121   -0.0275    0.816667   \n",
      "1                  0.35     0.10    0.666667   1.904762    0.0475    1.950000   \n",
      "2                  0.35     0.15    0.500000   1.428571    0.0450    1.300000   \n",
      "3                  0.65     0.15    0.750000   1.153846    0.0200    1.400000   \n",
      "4                  0.30     0.10    0.500000   1.666667    0.0400    1.400000   \n",
      "..                  ...      ...         ...        ...       ...         ...   \n",
      "141                0.05     0.05    0.500000  10.000000    0.0450    1.900000   \n",
      "142                0.05     0.05    0.500000  10.000000    0.0450    1.900000   \n",
      "143                0.20     0.05    1.000000   5.000000    0.0400         inf   \n",
      "144                0.10     0.05    1.000000  10.000000    0.0450         inf   \n",
      "145                0.10     0.05    1.000000  10.000000    0.0450         inf   \n",
      "\n",
      "     zhangs_metric  \n",
      "0        -0.174603  \n",
      "1         0.558824  \n",
      "2         0.428571  \n",
      "3         0.166667  \n",
      "4         0.500000  \n",
      "..             ...  \n",
      "141       1.000000  \n",
      "142       1.000000  \n",
      "143       0.842105  \n",
      "144       0.947368  \n",
      "145       0.947368  \n",
      "\n",
      "[146 rows x 10 columns]\n"
     ]
    }
   ],
   "source": [
    "# veriyi Encoding işleminden geçirmek için: # !Encoding: Kategorik verilere nicel etiketler (1-0 damgası gibi) uyguladığımız kısım\n",
    "te= TransactionEncoder()\n",
    "te_veri= te.fit_transform(veri)\n",
    "\n",
    "veri=pd.DataFrame(te_veri, columns=te.columns_)\n",
    "\n",
    "# min_support: Bizim belirlediğimiz sınır destek değeri. 0.05'in altındaki kombinasyonları almıyor.\n",
    "df1= apriori(veri, min_support=0.05, use_colnames=True)\n",
    "\n",
    "# df1: Frekanslanmış apriori yapısı.\n",
    "df2= association_rules(df1, metric=\"confidence\", min_threshold=0.5)\n",
    "print(df2)"
   ]
  },
  {
   "cell_type": "markdown",
   "metadata": {},
   "source": [
    "# ÖR: 1. müşteri için çıkan yukarıdaki sonuçların açıklaması :\n",
    "- antecedent : Bisküvi\n",
    "- consequent : Ekmek\n",
    "- antecedent support : Bisküvinin tek başına frekans oranı(görülme sıklığı)\n",
    "\n",
    "- consequent support: Ekmeğin tek başına frekans oranı\n",
    "\n",
    "- support: Bisküvit ve Ekmeğin birlikte görülme olasılığı\n",
    "- confidence: antecedent bir ürün satıldığında consequent ürününün satılma ihtimalini gösteriyor. **EN ÖNEMLİ!!!**\n",
    "- lift confidence'e benziyor"
   ]
  },
  {
   "cell_type": "code",
   "execution_count": null,
   "metadata": {},
   "outputs": [],
   "source": []
  }
 ],
 "metadata": {
  "kernelspec": {
   "display_name": "Python 3 (ipykernel)",
   "language": "python",
   "name": "python3"
  },
  "language_info": {
   "codemirror_mode": {
    "name": "ipython",
    "version": 3
   },
   "file_extension": ".py",
   "mimetype": "text/x-python",
   "name": "python",
   "nbconvert_exporter": "python",
   "pygments_lexer": "ipython3",
   "version": "3.11.4"
  }
 },
 "nbformat": 4,
 "nbformat_minor": 4
}
